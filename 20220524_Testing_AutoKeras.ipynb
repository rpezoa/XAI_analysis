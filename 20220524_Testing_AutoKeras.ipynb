{
 "cells": [
  {
   "cell_type": "code",
   "execution_count": 3,
   "id": "7595364e",
   "metadata": {},
   "outputs": [],
   "source": [
    "#!pip install keras"
   ]
  },
  {
   "cell_type": "code",
   "execution_count": 4,
   "id": "9ed359a2",
   "metadata": {},
   "outputs": [],
   "source": [
    "#!pip install git+https://github.com/keras-team/keras-tuner.git@1.0.2rc1"
   ]
  },
  {
   "cell_type": "code",
   "execution_count": 1,
   "id": "17e9a818",
   "metadata": {},
   "outputs": [
    {
     "name": "stdout",
     "output_type": "stream",
     "text": [
      "Name: autokeras\n",
      "Version: 1.0.19\n",
      "Summary: AutoML for deep learning\n",
      "Home-page: http://autokeras.com\n",
      "Author: DATA Lab, Keras Team\n",
      "Author-email: jhfjhfj1@gmail.com\n",
      "License: Apache License 2.0\n",
      "Location: /home/rpezoa/.local/lib/python3.7/site-packages\n",
      "Requires: tensorflow, packaging, pandas, keras-tuner\n",
      "Required-by: \n",
      "Note: you may need to restart the kernel to use updated packages.\n"
     ]
    }
   ],
   "source": [
    "pip show autokeras"
   ]
  },
  {
   "cell_type": "code",
   "execution_count": 2,
   "id": "31ef6bc0",
   "metadata": {},
   "outputs": [],
   "source": [
    "import pandas as pd\n",
    "\n",
    "import numpy as np\n",
    "from matplotlib import pyplot as plt\n",
    "import seaborn as sns\n",
    "from sklearn.preprocessing import StandardScaler\n",
    "from sklearn.model_selection import train_test_split\n",
    "seed_=0"
   ]
  },
  {
   "cell_type": "code",
   "execution_count": 3,
   "id": "38445afc",
   "metadata": {},
   "outputs": [
    {
     "name": "stderr",
     "output_type": "stream",
     "text": [
      "/home/lmod/software/Anaconda3/2020.02/lib/python3.7/site-packages/IPython/core/interactiveshell.py:3331: DtypeWarning: Columns (20,21,22,23,24,25,26,27,28) have mixed types.Specify dtype option on import or set low_memory=False.\n",
      "  exec(code_obj, self.user_global_ns, self.user_ns)\n"
     ]
    }
   ],
   "source": [
    "# Read data file\n",
    "df = pd.read_csv(\"../HEP_Data_Analysis/hep_shap/data/higgs/phpZLgL9q.csv\")\n",
    "df.rename(columns = {'class': 'label'}, inplace = True)\n",
    "# Removing last row containinng \"?\" values\n",
    "df.drop(df.tail(1).index,inplace=True) # drop last n rows\n",
    "df = df.apply(pd.to_numeric)\n",
    "# Pandas dataframe for correlation matrix without label column\n",
    "df_corr = df.drop('label', inplace=False, axis=1)"
   ]
  },
  {
   "cell_type": "code",
   "execution_count": 4,
   "id": "38d07063",
   "metadata": {},
   "outputs": [],
   "source": [
    "# Scaling data\n",
    "y = df[\"label\"]\n",
    "X = df.iloc[:,1:]\n",
    "\n",
    "scaler = StandardScaler()\n",
    "scaled_data = scaler.fit_transform(X)\n",
    "df_scaled = pd.DataFrame(scaled_data, columns=X.columns)\n",
    "\n",
    "\n",
    "# Training, validation, and testing data\n",
    "X_train, X_test, y_train, y_test = train_test_split(X, y, test_size=0.2, random_state=seed_)\n",
    "X_train, X_val, y_train, y_val = train_test_split(X_train, y_train, shuffle = True, test_size=0.2, random_state=seed_)"
   ]
  },
  {
   "cell_type": "code",
   "execution_count": 5,
   "id": "57f536bd",
   "metadata": {},
   "outputs": [
    {
     "name": "stdout",
     "output_type": "stream",
     "text": [
      "(62751, 28) (19610, 28) (62751,) (19610,)\n"
     ]
    }
   ],
   "source": [
    "print(X_train.shape, X_test.shape, y_train.shape, y_test.shape)"
   ]
  },
  {
   "cell_type": "code",
   "execution_count": 6,
   "id": "9388f817",
   "metadata": {},
   "outputs": [],
   "source": [
    "#!pip install keras-tuner --upgrade"
   ]
  },
  {
   "cell_type": "code",
   "execution_count": 7,
   "id": "42206c2e",
   "metadata": {},
   "outputs": [],
   "source": [
    "from autokeras import StructuredDataClassifier"
   ]
  },
  {
   "cell_type": "code",
   "execution_count": 8,
   "id": "e5bbf2f9",
   "metadata": {},
   "outputs": [
    {
     "name": "stdout",
     "output_type": "stream",
     "text": [
      "INFO:tensorflow:Reloading Oracle from existing project ./structured_data_classifier/oracle.json\n",
      "INFO:tensorflow:Reloading Tuner from ./structured_data_classifier/tuner0.json\n"
     ]
    }
   ],
   "source": [
    "search = StructuredDataClassifier(max_trials=2)"
   ]
  },
  {
   "cell_type": "code",
   "execution_count": 10,
   "id": "5facbc2e",
   "metadata": {},
   "outputs": [
    {
     "name": "stdout",
     "output_type": "stream",
     "text": [
      "INFO:tensorflow:Oracle triggered exit\n",
      "1961/1961 [==============================] - 7s 3ms/step - loss: 0.6396 - accuracy: 0.6340\n",
      "INFO:tensorflow:Assets written to: ./structured_data_classifier/best_model/assets\n",
      "Accuracy: 0.671\n"
     ]
    }
   ],
   "source": [
    "search.fit(x=X_train, y=y_train, verbose=0)\n",
    "# evaluate the model\n",
    "loss, acc = search.evaluate(X_test, y_test, verbose=4, validation_data=(X_val, y_val))\n",
    "print('Accuracy: %.3f' % acc)"
   ]
  },
  {
   "cell_type": "code",
   "execution_count": 13,
   "id": "6ed047eb",
   "metadata": {},
   "outputs": [
    {
     "name": "stdout",
     "output_type": "stream",
     "text": [
      "613/613 [==============================] - 2s 2ms/step\n",
      "613/613 [==============================] - 1s 2ms/step\n",
      "Predicted: 1.000\n",
      "Model: \"model\"\n",
      "_________________________________________________________________\n",
      " Layer (type)                Output Shape              Param #   \n",
      "=================================================================\n",
      " input_1 (InputLayer)        [(None, 28)]              0         \n",
      "                                                                 \n",
      " multi_category_encoding (Mu  (None, 28)               0         \n",
      " ltiCategoryEncoding)                                            \n",
      "                                                                 \n",
      " normalization (Normalizatio  (None, 28)               57        \n",
      " n)                                                              \n",
      "                                                                 \n",
      " dense (Dense)               (None, 1024)              29696     \n",
      "                                                                 \n",
      " re_lu (ReLU)                (None, 1024)              0         \n",
      "                                                                 \n",
      " dropout (Dropout)           (None, 1024)              0         \n",
      "                                                                 \n",
      " dense_1 (Dense)             (None, 32)                32800     \n",
      "                                                                 \n",
      " re_lu_1 (ReLU)              (None, 32)                0         \n",
      "                                                                 \n",
      " dropout_1 (Dropout)         (None, 32)                0         \n",
      "                                                                 \n",
      " dense_2 (Dense)             (None, 1)                 33        \n",
      "                                                                 \n",
      " classification_head_1 (Acti  (None, 1)                0         \n",
      " vation)                                                         \n",
      "                                                                 \n",
      "=================================================================\n",
      "Total params: 62,586\n",
      "Trainable params: 62,529\n",
      "Non-trainable params: 57\n",
      "_________________________________________________________________\n"
     ]
    }
   ],
   "source": [
    "yhat = search.predict(X_test)\n",
    "print('Predicted: %.3f' % yhat[0])\n",
    "\n",
    "model = search.export_model()\n",
    "model.summary()\n"
   ]
  },
  {
   "cell_type": "code",
   "execution_count": 14,
   "id": "91501dca",
   "metadata": {},
   "outputs": [
    {
     "data": {
      "text/plain": [
       "keras.engine.functional.Functional"
      ]
     },
     "execution_count": 14,
     "metadata": {},
     "output_type": "execute_result"
    }
   ],
   "source": [
    "type(model)"
   ]
  },
  {
   "cell_type": "code",
   "execution_count": 16,
   "id": "918c3d14",
   "metadata": {},
   "outputs": [
    {
     "name": "stdout",
     "output_type": "stream",
     "text": [
      "INFO:tensorflow:Assets written to: test_higgs_autorkeras.tf/assets\n"
     ]
    }
   ],
   "source": [
    "model.save(\"test_higgs_autorkeras.tf\",save_format='tf')"
   ]
  },
  {
   "cell_type": "code",
   "execution_count": 17,
   "id": "a014b4bc",
   "metadata": {},
   "outputs": [],
   "source": [
    "from tensorflow import keras"
   ]
  },
  {
   "cell_type": "code",
   "execution_count": 18,
   "id": "5d3ef7d6",
   "metadata": {},
   "outputs": [],
   "source": [
    "loaded_model = keras.models.load_model(\"test_higgs_autorkeras.tf\")"
   ]
  },
  {
   "cell_type": "code",
   "execution_count": 19,
   "id": "39ecd419",
   "metadata": {},
   "outputs": [
    {
     "data": {
      "text/plain": [
       "<keras.engine.functional.Functional at 0x2b3b5c0b0650>"
      ]
     },
     "execution_count": 19,
     "metadata": {},
     "output_type": "execute_result"
    }
   ],
   "source": [
    "loaded_model"
   ]
  },
  {
   "cell_type": "code",
   "execution_count": 20,
   "id": "108b1e77",
   "metadata": {},
   "outputs": [
    {
     "name": "stdout",
     "output_type": "stream",
     "text": [
      "613/613 [==============================] - 2s 2ms/step\n"
     ]
    }
   ],
   "source": [
    "y_pred = loaded_model.predict(X_test)"
   ]
  },
  {
   "cell_type": "code",
   "execution_count": 21,
   "id": "c934ed46",
   "metadata": {},
   "outputs": [
    {
     "data": {
      "text/plain": [
       "array([[0.60065126],\n",
       "       [0.5891997 ],\n",
       "       [0.39378986],\n",
       "       ...,\n",
       "       [0.75890565],\n",
       "       [0.66842705],\n",
       "       [0.55663997]], dtype=float32)"
      ]
     },
     "execution_count": 21,
     "metadata": {},
     "output_type": "execute_result"
    }
   ],
   "source": [
    "y_pred"
   ]
  },
  {
   "cell_type": "code",
   "execution_count": 22,
   "id": "d53b8604",
   "metadata": {},
   "outputs": [
    {
     "data": {
      "text/plain": [
       "<keras.callbacks.History at 0x2b3bdf0e0a10>"
      ]
     },
     "execution_count": 22,
     "metadata": {},
     "output_type": "execute_result"
    }
   ],
   "source": [
    "loaded_model.history"
   ]
  },
  {
   "cell_type": "code",
   "execution_count": 23,
   "id": "f1443e58",
   "metadata": {},
   "outputs": [
    {
     "name": "stdout",
     "output_type": "stream",
     "text": [
      "Model: \"model\"\n",
      "_________________________________________________________________\n",
      " Layer (type)                Output Shape              Param #   \n",
      "=================================================================\n",
      " input_1 (InputLayer)        [(None, 28)]              0         \n",
      "                                                                 \n",
      " multi_category_encoding (Mu  (None, 28)               0         \n",
      " ltiCategoryEncoding)                                            \n",
      "                                                                 \n",
      " normalization (Normalizatio  (None, 28)               57        \n",
      " n)                                                              \n",
      "                                                                 \n",
      " dense (Dense)               (None, 1024)              29696     \n",
      "                                                                 \n",
      " re_lu (ReLU)                (None, 1024)              0         \n",
      "                                                                 \n",
      " dropout (Dropout)           (None, 1024)              0         \n",
      "                                                                 \n",
      " dense_1 (Dense)             (None, 32)                32800     \n",
      "                                                                 \n",
      " re_lu_1 (ReLU)              (None, 32)                0         \n",
      "                                                                 \n",
      " dropout_1 (Dropout)         (None, 32)                0         \n",
      "                                                                 \n",
      " dense_2 (Dense)             (None, 1)                 33        \n",
      "                                                                 \n",
      " classification_head_1 (Acti  (None, 1)                0         \n",
      " vation)                                                         \n",
      "                                                                 \n",
      "=================================================================\n",
      "Total params: 62,586\n",
      "Trainable params: 62,529\n",
      "Non-trainable params: 57\n",
      "_________________________________________________________________\n"
     ]
    }
   ],
   "source": [
    "loaded_model.summary()"
   ]
  },
  {
   "cell_type": "code",
   "execution_count": 24,
   "id": "1cae29f0",
   "metadata": {},
   "outputs": [
    {
     "name": "stdout",
     "output_type": "stream",
     "text": [
      "1961/1961 [==============================] - 5s 2ms/step\n",
      "613/613 [==============================] - 1s 2ms/step\n",
      "491/491 [==============================] - 1s 2ms/step\n"
     ]
    }
   ],
   "source": [
    "y_pred_train = model.predict(X_train)\n",
    "y_pred_test = model.predict(X_test)\n",
    "y_pred_val = model.predict(X_val)"
   ]
  },
  {
   "cell_type": "code",
   "execution_count": 26,
   "id": "75bb058a",
   "metadata": {},
   "outputs": [],
   "source": [
    "import mplhep as hep"
   ]
  },
  {
   "cell_type": "code",
   "execution_count": 27,
   "id": "2f989248",
   "metadata": {},
   "outputs": [
    {
     "data": {
      "image/png": "[encoded data removed]",
      "text/plain": [
       "<Figure size 432x288 with 1 Axes>"
      ]
     },
     "metadata": {
      "needs_background": "light"
     },
     "output_type": "display_data"
    }
   ],
   "source": [
    "f, axs = plt.subplots(1, 1, sharex=True, sharey=True)\n",
    "h_signal_train, bins_sig_train = np.histogram(y_pred_train[y_train == 1], bins=30)\n",
    "h_back_train, bins_back_train = np.histogram(y_pred_train[y_train == 0], bins=30)\n",
    "h_sig_test, bins_sig_test = np.histogram(y_pred_test[y_test == 1], bins=30)\n",
    "h_back_test, bins_back_test = np.histogram(y_pred_test[y_test == 0], bins=30)\n",
    "\n",
    "axs.set_title(\"DNN\", fontsize=14)\n",
    "hep.histplot([h_signal_train,h_back_train, h_sig_test, h_back_test], bins_sig_test, ax=axs,label=[\"Train-Sig\", \"Train-B\", \"Test-S\", \"Test-B\"])\n",
    "axs.legend(fontsize=16)\n",
    "axs.set_xlabel(\"Score\")\n",
    "axs.set_ylabel(\"Number of Events\")\n",
    "\n",
    "plt.tight_layout()\n",
    "plt.show()"
   ]
  },
  {
   "cell_type": "code",
   "execution_count": 31,
   "id": "9fcfc746",
   "metadata": {},
   "outputs": [
    {
     "name": "stdout",
     "output_type": "stream",
     "text": [
      "F1: 0.72  -- prec: 0.61  -- recall: 0.89  -- acc: 0.64\n"
     ]
    }
   ],
   "source": [
    "from sklearn.metrics import roc_curve, auc, precision_score, recall_score, accuracy_score\n",
    "from sklearn.metrics import f1_score as f1s\n",
    "th=0.45\n",
    "fpr, tpr, ths = roc_curve(y_test,  y_pred_test)\n",
    "auc_ = auc(fpr, tpr)\n",
    "f1 = f1s(y_test,  (y_pred_test>th))\n",
    "prec = precision_score(y_test,  (y_pred_test>th))\n",
    "rec = recall_score(y_test,  (y_pred_test>th))\n",
    "acc = accuracy_score(y_test,  (y_pred_test>th))\n",
    "print(\"F1: %.2f\" %f1 , \" -- prec: %.2f\" %prec, \" -- recall: %.2f\" %rec, \" -- acc: %.2f\" %acc)"
   ]
  },
  {
   "cell_type": "code",
   "execution_count": 32,
   "id": "5f63a181",
   "metadata": {},
   "outputs": [
    {
     "data": {
      "image/png": "[encoded data removed]",
      "text/plain": [
       "<Figure size 432x288 with 1 Axes>"
      ]
     },
     "metadata": {
      "needs_background": "light"
     },
     "output_type": "display_data"
    }
   ],
   "source": [
    "#create ROC curve\n",
    "plt.plot(fpr,tpr, label='ROC curve (area = %.2f)' %auc_)\n",
    "plt.ylabel('True Positive Rate')\n",
    "plt.xlabel('False Positive Rate')\n",
    "plt.legend()\n",
    "plt.grid()\n",
    "plt.show()"
   ]
  },
  {
   "cell_type": "code",
   "execution_count": null,
   "id": "9e2c49ed",
   "metadata": {},
   "outputs": [],
   "source": []
  }
 ],
 "metadata": {
  "kernelspec": {
   "display_name": "Python 3",
   "language": "python",
   "name": "python3"
  },
  "language_info": {
   "codemirror_mode": {
    "name": "ipython",
    "version": 3
   },
   "file_extension": ".py",
   "mimetype": "text/x-python",
   "name": "python",
   "nbconvert_exporter": "python",
   "pygments_lexer": "ipython3",
   "version": "3.7.10"
  }
 },
 "nbformat": 4,
 "nbformat_minor": 5
}
